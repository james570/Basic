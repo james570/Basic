{
 "cells": [
  {
   "cell_type": "raw",
   "id": "f66bb14d-4235-4fff-b452-94f05942ec27",
   "metadata": {},
   "source": [
    "設計一個Python class 一個名為\"Student\"的類別，該類別應該包含學生的以下屬性：\n",
    "． 姓名\n",
    "． 學號\n",
    "． 年齡\n",
    "． 性別\n",
    "． 成績\n",
    "並在Student類別中實現以下function。\n",
    "． 建構式：__init__(self, name, student_id, age, gender): 初始化方法，用於設定學生的姓名、學號、年齡和性別。\n",
    "． set_grade(self, grade): 設定學生的成績。\n",
    "\n",
    "． get_grade(self): 獲取學生的成績。\n",
    "\n",
    "． display_student_info(self): 顯示學生的所有資訊。\n"
   ]
  },
  {
   "cell_type": "code",
   "execution_count": 29,
   "id": "3ca6bbde-63e8-4fb5-bf04-46ea1372838e",
   "metadata": {},
   "outputs": [],
   "source": [
    "class Student:\n",
    "    grade='unknown'\n",
    "    def __init__(self, name, student_id, age, gender): \n",
    "        self.name = name\n",
    "        self.student_id = student_id\n",
    "        self.age = age\n",
    "        self.gender = gender\n",
    "        \n",
    "    def set_grade(self, grade): \n",
    "        self.grade = grade\n",
    "    def get_grade(self):\n",
    "        print(self.name+'\\'s grade is : '+self.grade)\n",
    "        \n",
    "    def display_student_info(self):\n",
    "        print(\"name:      \" + self.name)\n",
    "        print(\"student_id:\" + self.student_id)\n",
    "        print(\"age:       \" + str(self.age))\n",
    "        print(\"sex:       \" + self.gender)\n",
    "        print(\"grade:     \" + self.grade)\n",
    "        "
   ]
  },
  {
   "cell_type": "code",
   "execution_count": 30,
   "id": "bff41ec5-dad2-4baf-b55f-5b76419e7df3",
   "metadata": {},
   "outputs": [],
   "source": [
    "James = Student(name='James', student_id= '12345678', age='20', gender='Male' )"
   ]
  },
  {
   "cell_type": "code",
   "execution_count": 31,
   "id": "3ab1abaf-25b8-4347-bd95-2225368dcac9",
   "metadata": {},
   "outputs": [
    {
     "name": "stdout",
     "output_type": "stream",
     "text": [
      "name:      James\n",
      "student_id:12345678\n",
      "age:       20\n",
      "sex:       Male\n",
      "grade:     unknown\n"
     ]
    }
   ],
   "source": [
    "James.display_student_info()"
   ]
  },
  {
   "cell_type": "code",
   "execution_count": 32,
   "id": "d9469476-e4ab-4fc0-b031-df694e65aa54",
   "metadata": {},
   "outputs": [],
   "source": [
    "James.set_grade('A')"
   ]
  },
  {
   "cell_type": "code",
   "execution_count": 33,
   "id": "0b31fb33-f6f3-46c8-b802-10d559312825",
   "metadata": {},
   "outputs": [
    {
     "name": "stdout",
     "output_type": "stream",
     "text": [
      "James's grade is : A\n"
     ]
    }
   ],
   "source": [
    "James.get_grade()"
   ]
  },
  {
   "cell_type": "code",
   "execution_count": 34,
   "id": "176173e3-b86e-4aac-98cb-8d0e579f3df7",
   "metadata": {},
   "outputs": [
    {
     "name": "stdout",
     "output_type": "stream",
     "text": [
      "name:      James\n",
      "student_id:12345678\n",
      "age:       20\n",
      "sex:       Male\n",
      "grade:     A\n"
     ]
    }
   ],
   "source": [
    "James.display_student_info()"
   ]
  },
  {
   "cell_type": "code",
   "execution_count": null,
   "id": "fb9f712b-f7f5-420e-8aac-b48a0cffd2ec",
   "metadata": {},
   "outputs": [],
   "source": []
  }
 ],
 "metadata": {
  "kernelspec": {
   "display_name": "Python 3 (ipykernel)",
   "language": "python",
   "name": "python3"
  },
  "language_info": {
   "codemirror_mode": {
    "name": "ipython",
    "version": 3
   },
   "file_extension": ".py",
   "mimetype": "text/x-python",
   "name": "python",
   "nbconvert_exporter": "python",
   "pygments_lexer": "ipython3",
   "version": "3.9.7"
  }
 },
 "nbformat": 4,
 "nbformat_minor": 5
}
